{
 "cells": [
  {
   "cell_type": "code",
   "execution_count": null,
   "metadata": {},
   "outputs": [],
   "source": [
    "import pandas as pd"
   ]
  },
  {
   "cell_type": "code",
   "execution_count": null,
   "metadata": {},
   "outputs": [],
   "source": []
  },
  {
   "cell_type": "code",
   "execution_count": null,
   "metadata": {},
   "outputs": [],
   "source": [
    "import matplotlib.pyplot as plt"
   ]
  },
  {
   "cell_type": "code",
   "execution_count": 16,
   "metadata": {},
   "outputs": [
    {
     "name": "stdout",
     "output_type": "stream",
     "text": [
      "Populating the interactive namespace from numpy and matplotlib\n"
     ]
    }
   ],
   "source": [
    "%pylab inline\n",
    "pylab.rcParams['figure.figsize'] = (16, 7)"
   ]
  },
  {
   "cell_type": "code",
   "execution_count": 29,
   "metadata": {},
   "outputs": [],
   "source": [
    "data=pd.read_csv(\"../../rbcdata/spv_sorted_filtered\")"
   ]
  },
  {
   "cell_type": "code",
   "execution_count": 30,
   "metadata": {},
   "outputs": [
    {
     "data": {
      "text/html": [
       "<div>\n",
       "<style scoped>\n",
       "    .dataframe tbody tr th:only-of-type {\n",
       "        vertical-align: middle;\n",
       "    }\n",
       "\n",
       "    .dataframe tbody tr th {\n",
       "        vertical-align: top;\n",
       "    }\n",
       "\n",
       "    .dataframe thead th {\n",
       "        text-align: right;\n",
       "    }\n",
       "</style>\n",
       "<table border=\"1\" class=\"dataframe\">\n",
       "  <thead>\n",
       "    <tr style=\"text-align: right;\">\n",
       "      <th></th>\n",
       "      <th>datatype</th>\n",
       "      <th>timestamp</th>\n",
       "      <th>dataunit</th>\n",
       "      <th>deviceid</th>\n",
       "      <th>data.gz</th>\n",
       "      <th>data.gy</th>\n",
       "      <th>data.gx</th>\n",
       "      <th>data.ay</th>\n",
       "      <th>data.ax</th>\n",
       "      <th>data.az</th>\n",
       "    </tr>\n",
       "  </thead>\n",
       "  <tbody>\n",
       "    <tr>\n",
       "      <th>0</th>\n",
       "      <td>vibration</td>\n",
       "      <td>2018-01-27T18:29:59.579073</td>\n",
       "      <td>imu</td>\n",
       "      <td>screenprinter_vibration</td>\n",
       "      <td>-1.243591</td>\n",
       "      <td>-1.541138</td>\n",
       "      <td>0.358582</td>\n",
       "      <td>1.005371</td>\n",
       "      <td>0.035034</td>\n",
       "      <td>-0.046021</td>\n",
       "    </tr>\n",
       "    <tr>\n",
       "      <th>1</th>\n",
       "      <td>vibration</td>\n",
       "      <td>2018-01-27T18:29:59.580308</td>\n",
       "      <td>imu</td>\n",
       "      <td>screenprinter_vibration</td>\n",
       "      <td>-1.258850</td>\n",
       "      <td>-1.716614</td>\n",
       "      <td>0.419617</td>\n",
       "      <td>1.004028</td>\n",
       "      <td>0.030396</td>\n",
       "      <td>-0.046997</td>\n",
       "    </tr>\n",
       "    <tr>\n",
       "      <th>2</th>\n",
       "      <td>vibration</td>\n",
       "      <td>2018-01-27T18:29:59.581319</td>\n",
       "      <td>imu</td>\n",
       "      <td>screenprinter_vibration</td>\n",
       "      <td>-1.365662</td>\n",
       "      <td>-1.579285</td>\n",
       "      <td>0.473022</td>\n",
       "      <td>1.002136</td>\n",
       "      <td>0.025085</td>\n",
       "      <td>-0.054138</td>\n",
       "    </tr>\n",
       "    <tr>\n",
       "      <th>3</th>\n",
       "      <td>vibration</td>\n",
       "      <td>2018-01-27T18:29:59.582570</td>\n",
       "      <td>imu</td>\n",
       "      <td>screenprinter_vibration</td>\n",
       "      <td>-1.335144</td>\n",
       "      <td>-1.388550</td>\n",
       "      <td>0.457764</td>\n",
       "      <td>1.000732</td>\n",
       "      <td>0.022705</td>\n",
       "      <td>-0.051941</td>\n",
       "    </tr>\n",
       "    <tr>\n",
       "      <th>4</th>\n",
       "      <td>vibration</td>\n",
       "      <td>2018-01-27T18:29:59.583608</td>\n",
       "      <td>imu</td>\n",
       "      <td>screenprinter_vibration</td>\n",
       "      <td>-1.289368</td>\n",
       "      <td>-1.579285</td>\n",
       "      <td>0.411987</td>\n",
       "      <td>1.001648</td>\n",
       "      <td>0.026245</td>\n",
       "      <td>-0.048706</td>\n",
       "    </tr>\n",
       "  </tbody>\n",
       "</table>\n",
       "</div>"
      ],
      "text/plain": [
       "    datatype                   timestamp dataunit                 deviceid  \\\n",
       "0  vibration  2018-01-27T18:29:59.579073      imu  screenprinter_vibration   \n",
       "1  vibration  2018-01-27T18:29:59.580308      imu  screenprinter_vibration   \n",
       "2  vibration  2018-01-27T18:29:59.581319      imu  screenprinter_vibration   \n",
       "3  vibration  2018-01-27T18:29:59.582570      imu  screenprinter_vibration   \n",
       "4  vibration  2018-01-27T18:29:59.583608      imu  screenprinter_vibration   \n",
       "\n",
       "    data.gz   data.gy   data.gx   data.ay   data.ax   data.az  \n",
       "0 -1.243591 -1.541138  0.358582  1.005371  0.035034 -0.046021  \n",
       "1 -1.258850 -1.716614  0.419617  1.004028  0.030396 -0.046997  \n",
       "2 -1.365662 -1.579285  0.473022  1.002136  0.025085 -0.054138  \n",
       "3 -1.335144 -1.388550  0.457764  1.000732  0.022705 -0.051941  \n",
       "4 -1.289368 -1.579285  0.411987  1.001648  0.026245 -0.048706  "
      ]
     },
     "execution_count": 30,
     "metadata": {},
     "output_type": "execute_result"
    }
   ],
   "source": [
    "data.head()"
   ]
  },
  {
   "cell_type": "code",
   "execution_count": null,
   "metadata": {},
   "outputs": [],
   "source": [
    "plt.plot(data.timestamp)"
   ]
  },
  {
   "cell_type": "code",
   "execution_count": null,
   "metadata": {},
   "outputs": [],
   "source": []
  }
 ],
 "metadata": {
  "kernelspec": {
   "display_name": "Python 2",
   "language": "python",
   "name": "python2"
  },
  "language_info": {
   "codemirror_mode": {
    "name": "ipython",
    "version": 2
   },
   "file_extension": ".py",
   "mimetype": "text/x-python",
   "name": "python",
   "nbconvert_exporter": "python",
   "pygments_lexer": "ipython2",
   "version": "2.7.13"
  }
 },
 "nbformat": 4,
 "nbformat_minor": 2
}
